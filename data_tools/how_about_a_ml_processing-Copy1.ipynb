{
 "cells": [
  {
   "cell_type": "markdown",
   "metadata": {},
   "source": [
    "# Bir Makine Öğrenmesi Süreci Nasıl Olur?"
   ]
  },
  {
   "cell_type": "markdown",
   "metadata": {},
   "source": [
    "Makine Öğrenmesi çalışırken belli başlı terimleri, durumları kafamda oturtabiliyordum. Herhangi bir şeyin öğrenme sürecinde olduğu gibi ilerledikçe daha karmaşık bir hal almaya başladı ve bir yerden sonra kayboldum. Böylesi durumlarda en önemli şey durup düşünmek geldiğin adımları takip etmek ve 'ben ne yapıyordum ya' diyerek durumu gözden geçirmek... Neyse ki fonksiyonel programlamada bunları yapmak çok basit. Yukarıdan aşağı kodlar okunduğu için bir sıra oluşmuş oluyor. Bu sırayı (makine öğrenmesinden bahsediyorum) takip etmek sırada ne var sorusuna gayet yeterli cevapları veriyor."
   ]
  },
  {
   "cell_type": "markdown",
   "metadata": {},
   "source": [
    "Bende kafa karışıklığını gidermek için bir makine öğrenmesi sürecinin cheat sheetlerine baktım. "
   ]
  },
  {
   "cell_type": "markdown",
   "metadata": {},
   "source": [
    "1. Loading the Dataset\n",
    "\n",
    "2. Getting Info about the Dataset\n",
    "\n",
    "3. Spliting dataset as train and test\n",
    "\n",
    "4. Preprocessing\n",
    "\n",
    "    - Standardization   - Enconding Categorical Features\n",
    "    \n",
    "    - Normalization     - Imputing Missing Values\n",
    "    \n",
    "    - Binarization      - Generating Polynomial Features\n",
    "    \n",
    "5. Create Model\n",
    "    - Supervised Learning   - Unsupervised Learning\n",
    "\n",
    "6. Model Fitting\n",
    "    - Supervised Learning -> fit\n",
    "    \n",
    "    - Unsupervised Learning -> fit, fit_transform\n",
    "\n",
    "7. Prediction\n",
    "    - Supervised Estimators -> predict labels,probability of a label\n",
    "    \n",
    "    - Unsupervised Estimators -> predict labels in clusting algo\n",
    "    \n",
    "8. Evalute Model's Performance\n",
    "    - Classification Metrics        - Regression Metrics\n",
    "        \n",
    "        -- accuracy score                -- mean absolute error\n",
    "        \n",
    "        -- classification report         -- mean squared error\n",
    "        \n",
    "        -- confusion matrix              -- r2 score\n",
    "        \n",
    "    - Clustering Metrics \n",
    "        \n",
    "        -- Adjusted Rand Index\n",
    "        \n",
    "        -- Homogenity\n",
    "        \n",
    "        -- V-measure\n",
    "        \n",
    "    - Cross Validation\n",
    "    \n",
    "9. Tune Model\n",
    "    \n",
    "    - GridSearch\n",
    "    \n",
    "    - Randomized Parameter Optimizastion"
   ]
  },
  {
   "cell_type": "markdown",
   "metadata": {},
   "source": [
    "Tabi ki de yöntemden yönteme değişiklikler var. Ama genel hatlarıyla makine öğrenmesi süreci bu şekilde işliyor."
   ]
  },
  {
   "cell_type": "code",
   "execution_count": null,
   "metadata": {},
   "outputs": [],
   "source": []
  }
 ],
 "metadata": {
  "kernelspec": {
   "display_name": "Python 3",
   "language": "python",
   "name": "python3"
  },
  "language_info": {
   "codemirror_mode": {
    "name": "ipython",
    "version": 3
   },
   "file_extension": ".py",
   "mimetype": "text/x-python",
   "name": "python",
   "nbconvert_exporter": "python",
   "pygments_lexer": "ipython3",
   "version": "3.7.6"
  }
 },
 "nbformat": 4,
 "nbformat_minor": 4
}
