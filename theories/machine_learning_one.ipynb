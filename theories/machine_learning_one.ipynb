{
 "cells": [
  {
   "cell_type": "markdown",
   "metadata": {},
   "source": [
    "# Makine Öğrenmesi Giriş"
   ]
  },
  {
   "cell_type": "markdown",
   "metadata": {},
   "source": [
    "Makine Öğrenmesi öncüsü Arthur Samuel dediği gibi \"Bilgisayarlara açıkça programlanmadan öğrenme kabiliyeti kazandırma çalışma alanıdır.\""
   ]
  },
  {
   "cell_type": "markdown",
   "metadata": {},
   "source": [
    "Genel bir algoritmayı veri ile besleyerek ileride bu verilerden geldiğinde hangi değerlere karşılık geldiğini, hangi sınıfa ait olduğunu veya kategorisini tahmin edebilir kılar."
   ]
  },
  {
   "cell_type": "markdown",
   "metadata": {},
   "source": [
    "Makine öğrenmesinde iki temel yaklaşım vardır: Supervised learning (denetimli öğrenme) ve unsupervised learning (denetimsiz öğrenme). Elbette Semi-supervised learning ve Rainforcement adında başka çeşitleride var fakat bunlar yavaş yavaş yapay sinir ağlarına ve derin öğrenme konularına gidiyor. O yüzden bunları makine öğrenmesi kapsamına almıyacağım. "
   ]
  },
  {
   "cell_type": "markdown",
   "metadata": {},
   "source": [
    "Bütün makine öğrenmesi algoritmaları ve yaklaşımlarında şu dikkatinizi çekecektir. Yaptığımız aslında bir tek iş var. Geri kalanlarla o işin hatalarını düzeltmekle geçer. Yaptığımız iş X değişkeninden Y değişkenine bir mapping işlemidir ve bu işlemin sonucunda öğrenme gerçekleşir. Öğrenme işlemini ise gelecekteki verilerin tahminleri için genel tutulması gerekmektedir. Bu yüzden gelen veri setinin eksik, aykırı gözlemleri, kullanılacak olan algoritmanın uygunluğu gibi bazı etkenler yanlılıklara dolayısıyla hatalara sebebiyet verir ve bütün olay bu hataları bilimsel bir çerçevede (o çerçeve istatistik ve olasılık) azaltmaktır. "
   ]
  },
  {
   "cell_type": "markdown",
   "metadata": {},
   "source": [
    "## Makine öğrenmesinin istatistik ile bağlantısı"
   ]
  },
  {
   "cell_type": "markdown",
   "metadata": {},
   "source": [
    "Hataları azaltırken bilimsel bir dayanağa ihtiyaç duyulur. Aksi takdirde yanlı ve tamamen genelleştirilmekten uzak bir tutum sergilenmiş olunur. Bu problemi çözmekten uzaklaşmanın ötesinde ciddi ahlak ve etik sorunlara yol açabilir."
   ]
  },
  {
   "cell_type": "markdown",
   "metadata": {},
   "source": [
    "Vikipedideki tanımı ile İstatistik veya sayıtım, belirli bir amaç için veri toplama, tablo ve grafiklerle özetleme, sonuçları yorumlama, sonuçların güven derecelerini açıklama, örneklerden elde edilen sonuçları kitle için genelleme, özellikler arasındaki ilişkiyi araştırma, çeşitli konularda geleceğe ilişkin tahmin yapma, deney düzenleme ve gözlem ilkelerini kapsayan bir bilimdir. Belirli bir amaç için verilerin toplanması, sınıflandırılması, çözümlenmesi ve sonuçlarının yorumlanması esasına dayanır."
   ]
  },
  {
   "cell_type": "markdown",
   "metadata": {},
   "source": [
    "Makine öğrenmesi yaklaşımlarının en çok bilineni olan regresyon aslında istatistiksel bir yöntemdir. Regresyon 200 yıldan beri var olan ve üzerinde çok çalışılmış bir tahmin etme yöntemdir. "
   ]
  },
  {
   "cell_type": "markdown",
   "metadata": {},
   "source": [
    "## Makine öğrenmesi Türleri"
   ]
  },
  {
   "cell_type": "markdown",
   "metadata": {},
   "source": [
    "Makine öğrenmesini birden fazla türlerine göre ayırabilir. Öğrenme şekillerine göre, kullandıkları yöntemlere göre veya regresyon algoritmalarında doğrusal olup olmadıklarına göre adlandırılır. Öğrenme türlerine göre ayrılmalarından yukarıda bahsedilmişti. Supervised learning ve unsupervised learning olarak iki ana ve semi-supervised ve rainforcement..."
   ]
  },
  {
   "cell_type": "markdown",
   "metadata": {},
   "source": [
    "Supervised learning: Eğitim verileri üzerinde bir fonksiyon üreten bir makine öğrenmesi tekniğidir. Girdilerle (labelled data) istenen çıktılar arasında eşleme yapan bir fonksiyon üretir. Daha açıklayıcı olması açısından, veri kümesi biliniyor ve bu verilerden istenilen çıktının ne olması gerektiği de biliniyor."
   ]
  },
  {
   "cell_type": "markdown",
   "metadata": {},
   "source": [
    "Supervised learning iki ana yönteme ayrılır. Regresyon (regression) ve sınıflandırma (classification). Regresyon, iki değişken arasındaki ilişkiyi göz önüne alarak eğri uydurma işlemidir. Sınıflandırma ise sonuçları ayrı ayrı çıktılarda tahmin etme işlemidir. Yani çıktılar kategorilere atamaya çalışır."
   ]
  },
  {
   "cell_type": "markdown",
   "metadata": {},
   "source": [
    "Unsupervised learning ise veriler hakkında çok az bilgi sahibi olunur ya da hiç bilgimiz olmaz. Clustering ve hiyerarşi öne çıkar. "
   ]
  },
  {
   "cell_type": "markdown",
   "metadata": {},
   "source": [
    "Doğrusal veya doğrusal olmama durumu regresyon yöntemleri için geçerlidir. Bir modelin doğrusal olup olmamasını kesin sınırlar ile belirlenemiyor."
   ]
  },
  {
   "cell_type": "markdown",
   "metadata": {},
   "source": [
    "Fakat,\n",
    "\n",
    "    - Sabit ve \n",
    "    \n",
    "    - Bağımsız değişken ile çarpılan bir parametre \n",
    "\n",
    "var ise istatistikçiler modelin doğrusal olacağını söylerler. Geri kalanları doğrusal değildir. Bununla birlikte eğriliği modellemekte mümkündür. "
   ]
  },
  {
   "cell_type": "markdown",
   "metadata": {},
   "source": [
    "Model doğrusal olma kurallarına uymuyorsa doğrusal değildir. Ayrımı ancak bu şekilde yapılır. Örneğin; power, weibull growth,fourier... Gerçekten de bu modellerin genel formlarına bakıldığında doğrusallık barındırmadığı anlaşılır."
   ]
  },
  {
   "cell_type": "markdown",
   "metadata": {},
   "source": [
    "Varsayımlar öğrenme sürecine büyük ölçüde basitleştirebilir, ancak öğrenilebilecekleri de sınırlayabilir. İşlevi bilinen bir forma basitleştiren algoritmalara"
   ]
  },
  {
   "cell_type": "markdown",
   "metadata": {},
   "source": [
    "Çalışma yöntemlerine göre ise bir resimle açıklamak daha kolay olur."
   ]
  },
  {
   "cell_type": "markdown",
   "metadata": {},
   "source": [
    "<img src='images/mlal.png' height:700 width=700>"
   ]
  },
  {
   "cell_type": "markdown",
   "metadata": {},
   "source": [
    "## Makine Öğrenmesi Nasıl Çalışıyor?"
   ]
  },
  {
   "cell_type": "markdown",
   "metadata": {},
   "source": [
    "Tüm denetimli makine öğrenme algoritmalarının ortak bir noktası var; Learning function (öğrenme fonksiyonu). Giriş değişkenlerini(X) bir çıkış değişkenine(y) en iyi şekilde eşleyen bir hedef fonksiyonu(f) öğrenmek olarak tanımlanır."
   ]
  },
  {
   "cell_type": "markdown",
   "metadata": {},
   "source": [
    "y=f(X)"
   ]
  },
  {
   "cell_type": "markdown",
   "metadata": {},
   "source": [
    "Bağımsız X değişkenlerine bağlı olan y değişkenini bulmak için bir hata payı(e) vardır. "
   ]
  },
  {
   "cell_type": "markdown",
   "metadata": {},
   "source": [
    "y=f(X)+e"
   ]
  },
  {
   "cell_type": "markdown",
   "metadata": {},
   "source": [
    "Bu hata, X ile y arasındaki en iyi eşleşmeyi yeterince karakterize etmek için yeterli özniteliklere sahip olmayabilir. Bunu hedef fonksiyonu ne olursa olsun azaltılması gerekir."
   ]
  },
  {
   "cell_type": "markdown",
   "metadata": {},
   "source": [
    "### Bias-Variance Trade-Off "
   ]
  },
  {
   "cell_type": "markdown",
   "metadata": {},
   "source": [
    "Supervised bir algoritma modeli eğitim datasında öğrenir. Bütün supervised makine öğrenmesi algoritmalarının amacı f(X)=y fonksiyonunu map etmete en iyi tahminde bulunmaktır. "
   ]
  },
  {
   "cell_type": "markdown",
   "metadata": {},
   "source": [
    "Her makine algoritmaları için tahmin hatası üç şekildedir."
   ]
  },
  {
   "cell_type": "markdown",
   "metadata": {},
   "source": [
    "    * Bias Error\n",
    "    \n",
    "    * Variance Error\n",
    "    \n",
    "    * Irreducible Error"
   ]
  },
  {
   "cell_type": "markdown",
   "metadata": {},
   "source": [
    "Irreducile error(indirgenemez hata), hangi algoritma ya da yöntem kulanılırsa kullanılsın azaltılamaz. Sorun seçilen framing'ten kaynaklanır. Girdiler ile çıktı eşleşmesini etkileyen bilinmeyen değişkenler gibi faktörlerden kaynaklanabilir. Bu hataya verideki gürültüden meydana gelir ve azaltmak için veriyi temizlemek gerekir. "
   ]
  },
  {
   "cell_type": "markdown",
   "metadata": {},
   "source": [
    "Bias error, yanlılık demektir. Hedef fonksiyonun öğrenilmesini kolaylaştırmak için bir model tarafından yapılan basitleştirici varsayımlardır."
   ]
  },
  {
   "cell_type": "markdown",
   "metadata": {},
   "source": [
    "Genel olarak doğrusal algoritmalar yüksek bir yanlılığa sahiptir. Bu da onları öğrenmeyi ve anlaşılmasını kolaylaştırır. Ancak daha az esnektir. Karmaşık problemler üzerinde daha düşük tahmin performansına sahiptir."
   ]
  },
  {
   "cell_type": "markdown",
   "metadata": {},
   "source": [
    "    * Low Bias: Hedef fonksiyonun biçimi hakkında daha az varsayım önerir.\n",
    "        \n",
    "    * High Bias: Hedef fonksiyonun biçimi hakkında daha fazla varsayım önerir."
   ]
  },
  {
   "cell_type": "markdown",
   "metadata": {},
   "source": [
    "Variance error, Varyans farklı egzersiz verileri kullanılırsa hedef fonksiyon tahmininin değişeceği miktardır."
   ]
  },
  {
   "cell_type": "markdown",
   "metadata": {},
   "source": [
    "İdeal olarak, bir eğitim veri kümesinden değerine çok fazla değişmemelidir. Yüksek değişkenliğe sahip makine öğrenmesi algoritmaları eğitim verilerinin özelliklerinden güçlü bir şekilde etkilenir. Bu, eğitimin özelliklerinin, eşleşme işlevini karakterize etmek için kullanılan parametre sayısını ve türleri etkilediği anlamına gelir."
   ]
  },
  {
   "cell_type": "markdown",
   "metadata": {},
   "source": [
    "    * Low Variance: Eğitim veri kümesindeki değişikliklerle hedef işlev tahmininde küçük değişkenlikler yapılmasını sezdirir.\n",
    "    \n",
    "    * High Variance: Eğitim veri kümesindeki değişikliklerle hedef işlev tahmininde büyük değişkenlikler yapılmasını sezdirir."
   ]
  },
  {
   "cell_type": "markdown",
   "metadata": {},
   "source": [
    "Genel olarak doğrusal olmayan algoritmalar yüksek varyansa sahiptir. Örneğin karar ağaçlarının varyansı yüksektir. Bu yüzden budama yapılır. "
   ]
  },
  {
   "cell_type": "markdown",
   "metadata": {},
   "source": [
    "Supervised algoritmalarında amaç low bias-low variance arasındaki ilişki kaçınılmazdır. Biri artarken diğeri azalır. Bu ikisi arasında dengeyi bulmak önemlidir."
   ]
  },
  {
   "cell_type": "markdown",
   "metadata": {},
   "source": [
    "Gerçekte, gerçek bias ve gerçek varyans hesaplanamaz. Çünkü gerçek hedef fonksiyonu bilemeyiz. Unutmaması gerekir ki makine öğrenemesi bu fonkiyonu tahmin etmeye çalışır. Bununla birlikte algoritmanıın tahmin performansını anlamak için gerekli araçtır."
   ]
  },
  {
   "cell_type": "markdown",
   "metadata": {},
   "source": [
    "Yanlılık modelin ne kadar yanlış olduğunu ölçer. Model zayıf kalmasına underfitting(eksik öğrenme) denir. Varyans yüksek ise overfitting(aşırı öğrenme) meydana gelir. Overfitting, model veri setini ezberlediği anlamına gelir. Overfit edilmiş model yeni veriler geldiğinde düzgün tahminlerde bulunamaz."
   ]
  },
  {
   "cell_type": "markdown",
   "metadata": {},
   "source": [
    "Bir modelin karmaşıklığını artırmak, varyansını artırır ve bias düşürür. Çözüm ise, mümkün olduğunca hata küçük tutulması, uygun varsayımlarla yanlılığın küçük tutulması ve yeterince büyük veri seti kullanıp modelin varyansını azaltılmalıdır. "
   ]
  }
 ],
 "metadata": {
  "kernelspec": {
   "display_name": "Python 3",
   "language": "python",
   "name": "python3"
  },
  "language_info": {
   "codemirror_mode": {
    "name": "ipython",
    "version": 3
   },
   "file_extension": ".py",
   "mimetype": "text/x-python",
   "name": "python",
   "nbconvert_exporter": "python",
   "pygments_lexer": "ipython3",
   "version": "3.7.6"
  }
 },
 "nbformat": 4,
 "nbformat_minor": 4
}
