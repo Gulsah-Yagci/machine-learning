{
 "cells": [
  {
   "cell_type": "markdown",
   "metadata": {},
   "source": [
    "# Bir Makine Öğrenmesi Süreci Nasıl Olur?"
   ]
  },
  {
   "cell_type": "markdown",
   "metadata": {},
   "source": [
    "Makine Öğrenmesi çalışırken belli başlı terimleri, durumları kafamda oturtabiliyordum. Herhangi bir şeyin öğrenme sürecinde olduğu gibi ilerledikçe daha karmaşık bir hal almaya başladı ve bir yerden sonra kayboldum. Böylesi durumlarda en önemli şey durup düşünmek geldiğin adımları takip etmek ve 'ben ne yapıyordum ya' diyerek durumu gözden geçirmek... Neyse ki fonksiyonel programlamada bunları yapmak çok basit. Yukarıdan aşağı kodlar okunduğu için bir sıra oluşmuş oluyor. Bu sırayı (makine öğrenmesinden bahsediyorum) takip etmek sırada ne var sorusuna gayet yeterli cevapları veriyor."
   ]
  },
  {
   "cell_type": "markdown",
   "metadata": {},
   "source": [
    "Bende kafa karışıklığını gidermek için bir makine öğrenmesi sürecinin cheat sheetlerine baktım. "
   ]
  },
  {
   "cell_type": "markdown",
   "metadata": {},
   "source": [
    "1. Loading the Dataset\n",
    "\n",
    "2. Getting Info about the Dataset\n",
    "\n",
    "3. Spliting dataset as train and test\n",
    "\n",
    "4. Preprocessing\n",
    "\n",
    "    - Standardization   \n",
    "    - Enconding Categorical Features\n",
    "    - Normalization     \n",
    "    - Imputing Missing Values\n",
    "    - Binarization      \n",
    "    - Generating Polynomial Features\n",
    "    \n",
    "5. Create Model\n",
    "    \n",
    "    - Supervised Learning   \n",
    "    - Unsupervised Learning\n",
    "\n",
    "6. Model Fitting\n",
    "    \n",
    "    - Supervised Learning -> fit\n",
    "    - Unsupervised Learning -> fit, fit_transform\n",
    "\n",
    "7. Prediction\n",
    "    \n",
    "    - Supervised Estimators -> predict labels,probability of a label\n",
    "    - Unsupervised Estimators -> predict labels in clusting algo\n",
    "    \n",
    "8. Evalute Model's Performance\n",
    "   \n",
    "   - Classification Metrics    \n",
    "   \n",
    "        -- accuracy score                \n",
    "        -- classification report         \n",
    "        -- confusion matrix              \n",
    "        \n",
    "   - Regression Metrics\n",
    "   \n",
    "        -- mean absolute error\n",
    "        -- mean squared error\n",
    "        -- r2 score\n",
    "        \n",
    "   - Clustering Metrics \n",
    "   \n",
    "        -- Adjusted Rand Index\n",
    "        -- Homogenity\n",
    "        -- V-measure\n",
    "        \n",
    "   \n",
    "   - Cross Validation\n",
    "    \n",
    "9. Tune Model\n",
    "    \n",
    "    - GridSearch\n",
    "    \n",
    "    - Randomized Parameter Optimizastion"
   ]
  },
  {
   "cell_type": "markdown",
   "metadata": {},
   "source": [
    "Tabi ki de yöntemden yönteme değişiklikler var. Ama genel hatlarıyla makine öğrenmesi süreci bu şekilde işliyor."
   ]
  },
  {
   "cell_type": "markdown",
   "metadata": {},
   "source": [
    "Verilerin geçmişini araştırmak istendiğinde istatistiksel bir takım araçlar kullanılır. Bunlar genelde keşifçi veri analizi olarak adlandırılıyor. "
   ]
  }
 ],
 "metadata": {
  "kernelspec": {
   "display_name": "Python 3",
   "language": "python",
   "name": "python3"
  },
  "language_info": {
   "codemirror_mode": {
    "name": "ipython",
    "version": 3
   },
   "file_extension": ".py",
   "mimetype": "text/x-python",
   "name": "python",
   "nbconvert_exporter": "python",
   "pygments_lexer": "ipython3",
   "version": "3.7.6"
  }
 },
 "nbformat": 4,
 "nbformat_minor": 4
}
