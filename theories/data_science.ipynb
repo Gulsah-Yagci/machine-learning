{
 "cells": [
  {
   "cell_type": "markdown",
   "metadata": {},
   "source": [
    "# Veri Bilimi"
   ]
  },
  {
   "cell_type": "markdown",
   "metadata": {},
   "source": [
    "\"Veri bilimi, yapılandırılmış ve yapılandırılmamış verilerden bilgi ve öngörü elde etmek için bilimsel yöntemleri, süreçleri, algoritmaları ve sistemleri kullanan çok disiplinli bir alandır.\" der Vikipedi. Veri bilimini iki başlık altında toplayabiliriz. Geçmişte olanları açıklamak ve geleceğe dair tahminlerde bulunmak. "
   ]
  },
  {
   "cell_type": "markdown",
   "metadata": {},
   "source": [
    "Geçmişte olanları istatistiksel analiz yöntemleriyle açıklayabiliriz. Tahminlerimizi ise geçmişten öğrendiklerimizle modellemelerle yapabiliriz. Genel hatlarıyla veri bilimi de budur."
   ]
  },
  {
   "cell_type": "markdown",
   "metadata": {},
   "source": [
    "Modellemeler yaparken kullanılan veri setleri bazen o kadar büyüktür ki (büyük veriden bahsetmiyorum ama o da olabilir) ve o kadar çeşitlidir ki hesap makinesi kullarak çözülecek gibi değilledir. Bu nedenle makine öğrenmesi adı verilen bir alan ile hesaplarımızı rahatça yapabilir, modeller kurabilir, ve içlerinden en uygun olanı seçebiliriz."
   ]
  },
  {
   "cell_type": "markdown",
   "metadata": {},
   "source": [
    "Veri biliminde kullanılan yöntemler vardır. Bunlar sürecin nasıl işleyeceğine dair bir akış gösterir."
   ]
  },
  {
   "cell_type": "markdown",
   "metadata": {},
   "source": [
    "* Semma : Sample, Explore, Modify, Model ve Evalute kelimelerinin baş harflerinden türetilmiştir. Süreç bu sırayı takip eder. Sass firmasının öne sürdüğü bir yöntemdir ve eskimiştir."
   ]
  },
  {
   "cell_type": "markdown",
   "metadata": {},
   "source": [
    "* Crisp-DM: Cross-Industry Standard Process for data minig tanımının kısaltması. Genelde veri bilimi sürecinden bahsedileceği zaman bu yöntem kabul görmüştür. "
   ]
  },
  {
   "cell_type": "markdown",
   "metadata": {},
   "source": [
    "* KDD: Knowledge and Data Discovery. Bu da başka bir yöntem."
   ]
  },
  {
   "cell_type": "markdown",
   "metadata": {},
   "source": [
    "Veri Bilimi için genel yaklaşım birkaç alanın birleşiminden oluştuğu yönündedir. Programlama, istatistik ve Olasılık, matematik gibi. "
   ]
  },
  {
   "cell_type": "markdown",
   "metadata": {},
   "source": [
    "## Makine Öğrenmesi"
   ]
  },
  {
   "cell_type": "markdown",
   "metadata": {},
   "source": [
    "Veri biliminde yapılmak istenilen işlerin büyük bir çoğunluğunu makine öğrenmesi sırtlanır. Öncüsü Arthur Samuel'in dediği gibi 'bilgisayarlara açıkça ekstra bir programlamlama yapmadan öğrenemebilme kabiliyeti kazandıran bir çalışma alanı'.  "
   ]
  },
  {
   "cell_type": "markdown",
   "metadata": {},
   "source": [
    "Makine öğrenenmesi ile;\n",
    "\n",
    "    * en başta tahminler yapılabilir.\n",
    "    \n",
    "    * kategorilendirme yapılabilir.\n",
    "    \n",
    "    * alışıla gelmedik olaylar tespit edilebilir ve\n",
    "    \n",
    "    * örüntüler keşfedilebilir. "
   ]
  },
  {
   "cell_type": "markdown",
   "metadata": {},
   "source": [
    "Makine öğrenmesi supervised learning (denetimli öğreneme) ve unsupervised learning (denetimsiz öğrenme) olarak ikiye ayrılır. Tabi ki semi-supervised learning ve reinforcement diye adlandırılan iki alt kategorisi de var. Fakat genelde ilk ikisine yoğunlaşacağım. "
   ]
  },
  {
   "cell_type": "markdown",
   "metadata": {},
   "source": [
    "Supervised learning ile varılması gereken hedef belirlidir. Amaç kurulan modelin o hedefe yaklaşabildiği kadar yaklaşmak ve eldeki veri setini olabildiği kadar genellemektir. İkiye ayrılır : Prediction ve Classification (Tahmin etmek ve Sınıflandırma)."
   ]
  },
  {
   "cell_type": "markdown",
   "metadata": {},
   "source": [
    "Unsupervised learning ise hedef yoktur. Elde bir takım veriler vardır ve bunların sınıflandırılması veya aralarındaki örüntü keşfedilmeye çalışılır."
   ]
  },
  {
   "cell_type": "markdown",
   "metadata": {},
   "source": [
    "Elbette bunlar genel çerçeveler birbirlerine karıştıkları bir çok algoritma bulunur. "
   ]
  }
 ],
 "metadata": {
  "kernelspec": {
   "display_name": "Python 3",
   "language": "python",
   "name": "python3"
  },
  "language_info": {
   "codemirror_mode": {
    "name": "ipython",
    "version": 3
   },
   "file_extension": ".py",
   "mimetype": "text/x-python",
   "name": "python",
   "nbconvert_exporter": "python",
   "pygments_lexer": "ipython3",
   "version": "3.8.5"
  }
 },
 "nbformat": 4,
 "nbformat_minor": 4
}
