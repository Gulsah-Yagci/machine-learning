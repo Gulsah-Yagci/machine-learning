{
 "cells": [
  {
   "cell_type": "markdown",
   "metadata": {},
   "source": [
    "# Bokeh"
   ]
  },
  {
   "cell_type": "markdown",
   "metadata": {},
   "source": [
    "Bokeh modern web browserları için geliştirilmiş bir interaktif görselleştirme kütüphanesidir. Büyük veya gerçek zamanlı veri kümeleri üzerinde yüksek performanslı etkileşim sağlar. "
   ]
  },
  {
   "cell_type": "markdown",
   "metadata": {},
   "source": [
    "Gelişmiş özelleştirmeler için gereken basitliği ve güçlü ve esnek özellikleri sunmak için Bokeh, kullanıcılara iki arayüz seviyesi sunar:"
   ]
  },
  {
   "cell_type": "markdown",
   "metadata": {},
   "source": [
    "* bokeh.models : Uygulama geliştiricilerine en fazla esnekliği sağlayan düşük düzeyli bir arabirim.\n",
    " \n",
    "* bokeh.plotting : Görsel glyphler oluşturmaya odaklanmış daha üst düzey bir arayüz "
   ]
  },
  {
   "cell_type": "markdown",
   "metadata": {},
   "source": [
    "## Kurulumu"
   ]
  },
  {
   "cell_type": "markdown",
   "metadata": {},
   "source": [
    "Anaconda :  conda install bokeh\n",
    "    \n",
    "pip : pip install bokeh"
   ]
  },
  {
   "cell_type": "markdown",
   "metadata": {},
   "source": [
    "## Bazı basit örnekler"
   ]
  },
  {
   "cell_type": "code",
   "execution_count": 2,
   "metadata": {},
   "outputs": [],
   "source": [
    "from bokeh.plotting import figure,output_file,show\n",
    "\n",
    "\n",
    "#veriler\n",
    "\n",
    "x= [1,2,3,4,5]\n",
    "y= [6,7,2,4,5]\n",
    "\n",
    "# statik html dosyası çıktısı olarak\n",
    "output_file('html/lines.html')\n",
    "\n",
    "# başlığı ve axisleri verilmiş yeni bir plot\n",
    "p = figure(title='simple line example',x_axis_label='x',y_axis_label='y')\n",
    "\n",
    "# legend ve çizgi kalınlığı belirlenmiş çizgiyi oluşturma\n",
    "p.line(x,y,legend_label='Temp',line_width=2)\n",
    "\n",
    "#sonuç\n",
    "show(p)"
   ]
  },
  {
   "cell_type": "markdown",
   "metadata": {},
   "source": [
    "Kodu çalıştırıldığında browserda static html sayfası gelir. Örnekte olduğu gibi."
   ]
  },
  {
   "cell_type": "markdown",
   "metadata": {},
   "source": [
    "<img src='images/bokeh_one.png' heigth=10 widht=10>"
   ]
  },
  {
   "cell_type": "markdown",
   "metadata": {},
   "source": [
    "Son olarak bokeh.plotting arayüzüyle plot oluşturmanın temel adımları:"
   ]
  },
  {
   "cell_type": "markdown",
   "metadata": {},
   "source": [
    "Verileri hazırla"
   ]
  },
  {
   "cell_type": "markdown",
   "metadata": {},
   "source": [
    "Bokeh'e nerede çıktı üretileceğini bildir. Yukarıda output_file() ile birlikte lines.html kullanıldı. Başka bir seçenekte Jupyter notebook için output_notebook() metodudur."
   ]
  },
  {
   "cell_type": "markdown",
   "metadata": {},
   "source": [
    "Çıktıyı çağırmak (**call figure()**). Tipik varsayılan seçeneklerle ve başlık, araçlar ve eksen etiketlerinin kolay özelleştirilmesi ile bir plot oluşturur. "
   ]
  },
  {
   "cell_type": "markdown",
   "metadata": {},
   "source": [
    "Plotu çizdirme (add renderers), veriler için renkler, göstergeler ve genişlikler gibi görsel özelleştirmeleri belirten line() yöntemi kullanılır."
   ]
  },
  {
   "cell_type": "markdown",
   "metadata": {},
   "source": [
    "Göster yada Kaydet(show() or save()), işlevleri plotu bir html dosyasına kaydeder ve isteğe bağlı olarak bir tarayıcıda görüntüler."
   ]
  },
  {
   "cell_type": "code",
   "execution_count": 3,
   "metadata": {},
   "outputs": [],
   "source": [
    "\n",
    "# prepare some data\n",
    "x = [0.1, 0.5, 1.0, 1.5, 2.0, 2.5, 3.0]\n",
    "y0 = [i**2 for i in x]\n",
    "y1 = [10**i for i in x]\n",
    "y2 = [10**(i**2) for i in x]\n",
    "\n",
    "# output to static HTML file\n",
    "output_file(\"html/log_lines.html\")\n",
    "\n",
    "# create a new plot\n",
    "p = figure(\n",
    "   tools=\"pan,box_zoom,reset,save\",\n",
    "   y_axis_type=\"log\", y_range=[0.001, 10**11], title=\"log axis example\",\n",
    "   x_axis_label='sections', y_axis_label='particles'\n",
    ")\n",
    "\n",
    "# add some renderers\n",
    "p.line(x, x, legend_label=\"y=x\")\n",
    "p.circle(x, x, legend_label=\"y=x\", fill_color=\"white\", size=8)\n",
    "p.line(x, y0, legend_label=\"y=x^2\", line_width=3)\n",
    "p.line(x, y1, legend_label=\"y=10^x\", line_color=\"red\")\n",
    "p.circle(x, y1, legend_label=\"y=10^x\", fill_color=\"red\", line_color=\"red\", size=6)\n",
    "p.line(x, y2, legend_label=\"y=10^x^2\", line_color=\"orange\", line_dash=\"4 4\")\n",
    "\n",
    "# show the results\n",
    "show(p)"
   ]
  },
  {
   "cell_type": "code",
   "execution_count": null,
   "metadata": {},
   "outputs": [],
   "source": []
  }
 ],
 "metadata": {
  "kernelspec": {
   "display_name": "Python 3",
   "language": "python",
   "name": "python3"
  },
  "language_info": {
   "codemirror_mode": {
    "name": "ipython",
    "version": 3
   },
   "file_extension": ".py",
   "mimetype": "text/x-python",
   "name": "python",
   "nbconvert_exporter": "python",
   "pygments_lexer": "ipython3",
   "version": "3.7.6"
  }
 },
 "nbformat": 4,
 "nbformat_minor": 4
}
