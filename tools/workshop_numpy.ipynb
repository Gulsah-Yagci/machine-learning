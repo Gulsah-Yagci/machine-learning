{
 "cells": [
  {
   "cell_type": "markdown",
   "metadata": {},
   "source": [
    "# Numpy (Numerical Python) Notları"
   ]
  },
  {
   "cell_type": "markdown",
   "metadata": {},
   "source": [
    "Temelinde tek boyutlu ve matrisler olan bunlarla yapılabilecek işlemleri, bilimsel hesaplamaları kolaylaştıran bir python modülüdür."
   ]
  },
  {
   "cell_type": "markdown",
   "metadata": {},
   "source": [
    "## İçerik\n",
    "\n",
    "1. [Modül Kütüphanesini Import Etme](#1)\n",
    "2. [Dizi Yaratmak](#2)\n",
    "3. [Denetim Özellikleri](#3)\n",
    "4. [Copying Sorting Reshaping](#4)\n",
    "5. [Adding Removing](#5)\n",
    "6. [Combining Splitting](#6)\n",
    "7. [Indexing Slicing Subsetting](#7)\n",
    "8. [Scaler Math](#8)\n",
    "9. [Vector Math](#9)\n",
    "10. [İstatistik](#10)"
   ]
  },
  {
   "cell_type": "markdown",
   "metadata": {},
   "source": [
    "<a id='1'></a><br>\n",
    "## Modül Kütüphanesini Import Etme"
   ]
  },
  {
   "cell_type": "markdown",
   "metadata": {},
   "source": [
    "Numpy Kütüphanesini;"
   ]
  },
  {
   "cell_type": "markdown",
   "metadata": {},
   "source": [
    "- conda install numpy (conda kullananlar)\n",
    "\n",
    "- pip install numpy (pip kullananlar)\n",
    "\n",
    "şeklinde kurabilir. "
   ]
  },
  {
   "cell_type": "markdown",
   "metadata": {},
   "source": [
    "Bir kütüphane ile çalışırken karşılaşılan hatalardan biri yazdığınız kod parçacığı ile kütüphanin sürümlerinin uymamasıdır. O yüzden versiyon kontrolü yapmak önemlidir."
   ]
  },
  {
   "cell_type": "code",
   "execution_count": 1,
   "metadata": {},
   "outputs": [],
   "source": [
    "import numpy as np  # kütüphane import edildi"
   ]
  },
  {
   "cell_type": "code",
   "execution_count": 2,
   "metadata": {},
   "outputs": [
    {
     "data": {
      "text/plain": [
       "'1.18.1'"
      ]
     },
     "execution_count": 2,
     "metadata": {},
     "output_type": "execute_result"
    }
   ],
   "source": [
    "np.version.version"
   ]
  },
  {
   "cell_type": "markdown",
   "metadata": {},
   "source": [
    "<a id='2'></a><br>\n",
    "## Dizi yaratmak"
   ]
  },
  {
   "cell_type": "markdown",
   "metadata": {},
   "source": [
    "Numpy hızlı bir biçimde vektörler ve matrisler oluşturur ve kullanımlarını kolaylaştırır. "
   ]
  },
  {
   "cell_type": "code",
   "execution_count": 3,
   "metadata": {},
   "outputs": [
    {
     "data": {
      "text/plain": [
       "array([1, 2, 3, 4, 5])"
      ]
     },
     "execution_count": 3,
     "metadata": {},
     "output_type": "execute_result"
    }
   ],
   "source": [
    "vector = np.array([1,2,3,4,5])\n",
    "vector"
   ]
  },
  {
   "cell_type": "markdown",
   "metadata": {},
   "source": [
    "'vector' değişkeninin tipini kontrol ettiğimizde:"
   ]
  },
  {
   "cell_type": "code",
   "execution_count": 5,
   "metadata": {},
   "outputs": [
    {
     "data": {
      "text/plain": [
       "numpy.ndarray"
      ]
     },
     "execution_count": 5,
     "metadata": {},
     "output_type": "execute_result"
    }
   ],
   "source": [
    "type(vector)"
   ]
  },
  {
   "cell_type": "markdown",
   "metadata": {},
   "source": [
    "Eğer dizinin belirli bir aralıkta olması istenirse (örnekte 1'den 20'ye kadar ikişer ikişer, 20 dahil değil)"
   ]
  },
  {
   "cell_type": "code",
   "execution_count": 6,
   "metadata": {},
   "outputs": [
    {
     "data": {
      "text/plain": [
       "array([ 1,  3,  5,  7,  9, 11, 13, 15, 17, 19])"
      ]
     },
     "execution_count": 6,
     "metadata": {},
     "output_type": "execute_result"
    }
   ],
   "source": [
    "vector2 = np.arange(1,20,2)\n",
    "vector2"
   ]
  },
  {
   "cell_type": "markdown",
   "metadata": {},
   "source": [
    "Aşağıdaki örnekte ise 10'dan 50'ye 20 tane sayı üretir."
   ]
  },
  {
   "cell_type": "code",
   "execution_count": 7,
   "metadata": {},
   "outputs": [
    {
     "data": {
      "text/plain": [
       "array([10.        , 12.10526316, 14.21052632, 16.31578947, 18.42105263,\n",
       "       20.52631579, 22.63157895, 24.73684211, 26.84210526, 28.94736842,\n",
       "       31.05263158, 33.15789474, 35.26315789, 37.36842105, 39.47368421,\n",
       "       41.57894737, 43.68421053, 45.78947368, 47.89473684, 50.        ])"
      ]
     },
     "execution_count": 7,
     "metadata": {},
     "output_type": "execute_result"
    }
   ],
   "source": [
    "vectorLin = np.linspace(10,50,20)\n",
    "vectorLin"
   ]
  },
  {
   "cell_type": "code",
   "execution_count": 12,
   "metadata": {},
   "outputs": [
    {
     "data": {
      "text/plain": [
       "array([ 1,  2,  3,  4,  5,  6,  7,  8,  9, 10, 11, 12, 13, 14, 15])"
      ]
     },
     "execution_count": 12,
     "metadata": {},
     "output_type": "execute_result"
    }
   ],
   "source": [
    "vector3 = np.arange(1,16) # arange fonksiyonunda spesifik bir artış istenmiyorsa \n",
    "vector3"
   ]
  },
  {
   "cell_type": "markdown",
   "metadata": {},
   "source": [
    "'vector' ve 'vector2' tek boyutlu (1xn)'lik vektörledir. Eğer iki boyutlu(matris) istenirse:"
   ]
  },
  {
   "cell_type": "code",
   "execution_count": 10,
   "metadata": {},
   "outputs": [
    {
     "data": {
      "text/plain": [
       "array([[ 1,  2,  3,  4,  5,  6,  7,  8,  9, 10],\n",
       "       [11, 12, 13, 14, 15, 16, 17, 18, 19, 20]])"
      ]
     },
     "execution_count": 10,
     "metadata": {},
     "output_type": "execute_result"
    }
   ],
   "source": [
    "two_dimension = np.array([[1,2,3,4,5,6,7,8,9,10],\n",
    "                         [11,12,13,14,15,16,17,18,19,20]])\n",
    "two_dimension"
   ]
  },
  {
   "cell_type": "markdown",
   "metadata": {},
   "source": [
    "Kullanılacak olan matrisin tamamen 0'lardan oluşması istenirse:"
   ]
  },
  {
   "cell_type": "code",
   "execution_count": 14,
   "metadata": {},
   "outputs": [
    {
     "data": {
      "text/plain": [
       "array([[0., 0., 0., 0.],\n",
       "       [0., 0., 0., 0.],\n",
       "       [0., 0., 0., 0.]])"
      ]
     },
     "execution_count": 14,
     "metadata": {},
     "output_type": "execute_result"
    }
   ],
   "source": [
    "zero = np.zeros((3,4))\n",
    "zero"
   ]
  },
  {
   "cell_type": "markdown",
   "metadata": {},
   "source": [
    "Matristeki bir değere atama işlemi :"
   ]
  },
  {
   "cell_type": "code",
   "execution_count": 15,
   "metadata": {},
   "outputs": [
    {
     "data": {
      "text/plain": [
       "array([[0., 0., 0., 0.],\n",
       "       [0., 0., 0., 0.],\n",
       "       [0., 0., 5., 0.]])"
      ]
     },
     "execution_count": 15,
     "metadata": {},
     "output_type": "execute_result"
    }
   ],
   "source": [
    "zero[2,2] = 5\n",
    "zero"
   ]
  },
  {
   "cell_type": "markdown",
   "metadata": {},
   "source": [
    "Dolayısıyla bir değişken seçme işleminide öğrenmiş olduk (zero[2,2]) "
   ]
  },
  {
   "cell_type": "code",
   "execution_count": 18,
   "metadata": {},
   "outputs": [
    {
     "data": {
      "text/plain": [
       "array([1, 2, 3, 4, 5])"
      ]
     },
     "execution_count": 18,
     "metadata": {},
     "output_type": "execute_result"
    }
   ],
   "source": [
    "vector"
   ]
  },
  {
   "cell_type": "code",
   "execution_count": 19,
   "metadata": {},
   "outputs": [
    {
     "data": {
      "text/plain": [
       "3"
      ]
     },
     "execution_count": 19,
     "metadata": {},
     "output_type": "execute_result"
    }
   ],
   "source": [
    "vector[2] # burada da diziden bir seçme işlemi yapmış olduk. Diziler 0. indisten başlar."
   ]
  },
  {
   "cell_type": "markdown",
   "metadata": {},
   "source": [
    "Devam edelim; Kullanılacak olan matrisin tamamı 1'lerden oluşmasını istenirse:"
   ]
  },
  {
   "cell_type": "code",
   "execution_count": 20,
   "metadata": {},
   "outputs": [
    {
     "data": {
      "text/plain": [
       "array([[1., 1., 1., 1., 1.],\n",
       "       [1., 1., 1., 1., 1.],\n",
       "       [1., 1., 1., 1., 1.]])"
      ]
     },
     "execution_count": 20,
     "metadata": {},
     "output_type": "execute_result"
    }
   ],
   "source": [
    "one = np.ones((3,5))\n",
    "one"
   ]
  },
  {
   "cell_type": "markdown",
   "metadata": {},
   "source": [
    "Boş bir matris:"
   ]
  },
  {
   "cell_type": "code",
   "execution_count": 21,
   "metadata": {},
   "outputs": [
    {
     "data": {
      "text/plain": [
       "array([[0., 0., 0.],\n",
       "       [0., 0., 0.]])"
      ]
     },
     "execution_count": 21,
     "metadata": {},
     "output_type": "execute_result"
    }
   ],
   "source": [
    "empty = np.empty((2,3))\n",
    "empty"
   ]
  },
  {
   "cell_type": "markdown",
   "metadata": {},
   "source": [
    "nxn'lik bir diagonal matris (diagonal: Doğrusal cebirde köşegen matris, ilkköşegenin dışında kalan girişlerin tümü sıfır ve genellikle kare matris olan bir matrisdir. -_vikipedi_): "
   ]
  },
  {
   "cell_type": "code",
   "execution_count": 22,
   "metadata": {},
   "outputs": [
    {
     "data": {
      "text/plain": [
       "array([[1., 0., 0., 0., 0.],\n",
       "       [0., 1., 0., 0., 0.],\n",
       "       [0., 0., 1., 0., 0.],\n",
       "       [0., 0., 0., 1., 0.],\n",
       "       [0., 0., 0., 0., 1.]])"
      ]
     },
     "execution_count": 22,
     "metadata": {},
     "output_type": "execute_result"
    }
   ],
   "source": [
    "arrayEye =np.eye(5)\n",
    "arrayEye"
   ]
  },
  {
   "cell_type": "markdown",
   "metadata": {},
   "source": [
    "Bütün bir matrisi tek bir sayı ile doldurulması (örnekte 2x3'lük bir matris 8 sayısı ile doldurulmuş):"
   ]
  },
  {
   "cell_type": "code",
   "execution_count": 23,
   "metadata": {},
   "outputs": [
    {
     "data": {
      "text/plain": [
       "array([[8, 8, 8],\n",
       "       [8, 8, 8]])"
      ]
     },
     "execution_count": 23,
     "metadata": {},
     "output_type": "execute_result"
    }
   ],
   "source": [
    "arrayFull = np.full((2,3),8)\n",
    "arrayFull"
   ]
  },
  {
   "cell_type": "markdown",
   "metadata": {},
   "source": [
    "Matrisi random float sayılardan oluşturma"
   ]
  },
  {
   "cell_type": "code",
   "execution_count": 24,
   "metadata": {},
   "outputs": [
    {
     "data": {
      "text/plain": [
       "array([[0.21742871, 0.80268968, 0.22559868, 0.583517  , 0.5523403 ],\n",
       "       [0.89772702, 0.69633127, 0.21906737, 0.29241278, 0.44865392],\n",
       "       [0.2505541 , 0.81597956, 0.82764579, 0.60787041, 0.32741786],\n",
       "       [0.86654241, 0.70192253, 0.89186035, 0.02733217, 0.87641427]])"
      ]
     },
     "execution_count": 24,
     "metadata": {},
     "output_type": "execute_result"
    }
   ],
   "source": [
    "vector4 = np.random.rand(4,5)\n",
    "vector4"
   ]
  },
  {
   "cell_type": "markdown",
   "metadata": {},
   "source": [
    "Bu arada herhangi bir fonksiyonun parametreleri ve alt fonksiyonlarına ulaşmak için ? kullanılır"
   ]
  },
  {
   "cell_type": "code",
   "execution_count": 25,
   "metadata": {
    "collapsed": true,
    "jupyter": {
     "outputs_hidden": true
    }
   },
   "outputs": [
    {
     "data": {
      "text/plain": [
       "\u001b[1;31mType:\u001b[0m        module\n",
       "\u001b[1;31mString form:\u001b[0m <module 'numpy.random' from 'C:\\\\Users\\\\HP\\\\anaconda3\\\\lib\\\\site-packages\\\\numpy\\\\random\\\\__init__.py'>\n",
       "\u001b[1;31mFile:\u001b[0m        c:\\users\\hp\\anaconda3\\lib\\site-packages\\numpy\\random\\__init__.py\n",
       "\u001b[1;31mDocstring:\u001b[0m  \n",
       "========================\n",
       "Random Number Generation\n",
       "========================\n",
       "\n",
       "Use ``default_rng()`` to create a `Generator` and call its methods.\n",
       "\n",
       "=============== =========================================================\n",
       "Generator\n",
       "--------------- ---------------------------------------------------------\n",
       "Generator       Class implementing all of the random number distributions\n",
       "default_rng     Default constructor for ``Generator``\n",
       "=============== =========================================================\n",
       "\n",
       "============================================= ===\n",
       "BitGenerator Streams that work with Generator\n",
       "--------------------------------------------- ---\n",
       "MT19937\n",
       "PCG64\n",
       "Philox\n",
       "SFC64\n",
       "============================================= ===\n",
       "\n",
       "============================================= ===\n",
       "Getting entropy to initialize a BitGenerator\n",
       "--------------------------------------------- ---\n",
       "SeedSequence\n",
       "============================================= ===\n",
       "\n",
       "\n",
       "Legacy\n",
       "------\n",
       "\n",
       "For backwards compatibility with previous versions of numpy before 1.17, the\n",
       "various aliases to the global `RandomState` methods are left alone and do not\n",
       "use the new `Generator` API.\n",
       "\n",
       "==================== =========================================================\n",
       "Utility functions\n",
       "-------------------- ---------------------------------------------------------\n",
       "random               Uniformly distributed floats over ``[0, 1)``\n",
       "bytes                Uniformly distributed random bytes.\n",
       "permutation          Randomly permute a sequence / generate a random sequence.\n",
       "shuffle              Randomly permute a sequence in place.\n",
       "choice               Random sample from 1-D array.\n",
       "==================== =========================================================\n",
       "\n",
       "==================== =========================================================\n",
       "Compatibility\n",
       "functions - removed\n",
       "in the new API\n",
       "-------------------- ---------------------------------------------------------\n",
       "rand                 Uniformly distributed values.\n",
       "randn                Normally distributed values.\n",
       "ranf                 Uniformly distributed floating point numbers.\n",
       "random_integers      Uniformly distributed integers in a given range.\n",
       "                     (deprecated, use ``integers(..., closed=True)`` instead)\n",
       "random_sample        Alias for `random_sample`\n",
       "randint              Uniformly distributed integers in a given range\n",
       "seed                 Seed the legacy random number generator.\n",
       "==================== =========================================================\n",
       "\n",
       "==================== =========================================================\n",
       "Univariate\n",
       "distributions\n",
       "-------------------- ---------------------------------------------------------\n",
       "beta                 Beta distribution over ``[0, 1]``.\n",
       "binomial             Binomial distribution.\n",
       "chisquare            :math:`\\chi^2` distribution.\n",
       "exponential          Exponential distribution.\n",
       "f                    F (Fisher-Snedecor) distribution.\n",
       "gamma                Gamma distribution.\n",
       "geometric            Geometric distribution.\n",
       "gumbel               Gumbel distribution.\n",
       "hypergeometric       Hypergeometric distribution.\n",
       "laplace              Laplace distribution.\n",
       "logistic             Logistic distribution.\n",
       "lognormal            Log-normal distribution.\n",
       "logseries            Logarithmic series distribution.\n",
       "negative_binomial    Negative binomial distribution.\n",
       "noncentral_chisquare Non-central chi-square distribution.\n",
       "noncentral_f         Non-central F distribution.\n",
       "normal               Normal / Gaussian distribution.\n",
       "pareto               Pareto distribution.\n",
       "poisson              Poisson distribution.\n",
       "power                Power distribution.\n",
       "rayleigh             Rayleigh distribution.\n",
       "triangular           Triangular distribution.\n",
       "uniform              Uniform distribution.\n",
       "vonmises             Von Mises circular distribution.\n",
       "wald                 Wald (inverse Gaussian) distribution.\n",
       "weibull              Weibull distribution.\n",
       "zipf                 Zipf's distribution over ranked data.\n",
       "==================== =========================================================\n",
       "\n",
       "==================== ==========================================================\n",
       "Multivariate\n",
       "distributions\n",
       "-------------------- ----------------------------------------------------------\n",
       "dirichlet            Multivariate generalization of Beta distribution.\n",
       "multinomial          Multivariate generalization of the binomial distribution.\n",
       "multivariate_normal  Multivariate generalization of the normal distribution.\n",
       "==================== ==========================================================\n",
       "\n",
       "==================== =========================================================\n",
       "Standard\n",
       "distributions\n",
       "-------------------- ---------------------------------------------------------\n",
       "standard_cauchy      Standard Cauchy-Lorentz distribution.\n",
       "standard_exponential Standard exponential distribution.\n",
       "standard_gamma       Standard Gamma distribution.\n",
       "standard_normal      Standard normal distribution.\n",
       "standard_t           Standard Student's t-distribution.\n",
       "==================== =========================================================\n",
       "\n",
       "==================== =========================================================\n",
       "Internal functions\n",
       "-------------------- ---------------------------------------------------------\n",
       "get_state            Get tuple representing internal state of generator.\n",
       "set_state            Set state of generator.\n",
       "==================== =========================================================\n"
      ]
     },
     "metadata": {},
     "output_type": "display_data"
    }
   ],
   "source": [
    "?np.random"
   ]
  },
  {
   "cell_type": "markdown",
   "metadata": {},
   "source": [
    "'np.random.normal', tek bir float sayı üretir."
   ]
  },
  {
   "cell_type": "code",
   "execution_count": 27,
   "metadata": {},
   "outputs": [
    {
     "data": {
      "text/plain": [
       "-0.6487379844652181"
      ]
     },
     "execution_count": 27,
     "metadata": {},
     "output_type": "execute_result"
    }
   ],
   "source": [
    "vector_normal_random = np.random.normal()\n",
    "vector_normal_random"
   ]
  },
  {
   "cell_type": "code",
   "execution_count": 28,
   "metadata": {},
   "outputs": [
    {
     "data": {
      "text/plain": [
       "array([ 1.2357465 , -0.57829477, -1.09596176,  1.96619263])"
      ]
     },
     "execution_count": 28,
     "metadata": {},
     "output_type": "execute_result"
    }
   ],
   "source": [
    "vector_normal_random_size = np.random.normal(size=4)\n",
    "vector_normal_random_size"
   ]
  },
  {
   "cell_type": "code",
   "execution_count": 29,
   "metadata": {},
   "outputs": [
    {
     "data": {
      "text/plain": [
       "numpy.ndarray"
      ]
     },
     "execution_count": 29,
     "metadata": {},
     "output_type": "execute_result"
    }
   ],
   "source": [
    "type(vector_normal_random_size)"
   ]
  },
  {
   "cell_type": "code",
   "execution_count": 31,
   "metadata": {},
   "outputs": [
    {
     "data": {
      "text/plain": [
       "array([75])"
      ]
     },
     "execution_count": 31,
     "metadata": {},
     "output_type": "execute_result"
    }
   ],
   "source": [
    "vector_rand = np.random.randint(low=0,high=100,size=1) # 0dan 100'e 1 tane int sayı üret\n",
    "vector_rand "
   ]
  },
  {
   "cell_type": "markdown",
   "metadata": {},
   "source": [
    "<a id='3'></a><br>\n",
    "## Denetim Özellikleri"
   ]
  },
  {
   "cell_type": "code",
   "execution_count": 33,
   "metadata": {},
   "outputs": [
    {
     "data": {
      "text/plain": [
       "array([ 1,  3,  5,  7,  9, 11, 13, 15, 17, 19])"
      ]
     },
     "execution_count": 33,
     "metadata": {},
     "output_type": "execute_result"
    }
   ],
   "source": [
    "vector2"
   ]
  },
  {
   "cell_type": "markdown",
   "metadata": {},
   "source": [
    "'vector2' size :"
   ]
  },
  {
   "cell_type": "code",
   "execution_count": 32,
   "metadata": {},
   "outputs": [
    {
     "data": {
      "text/plain": [
       "10"
      ]
     },
     "execution_count": 32,
     "metadata": {},
     "output_type": "execute_result"
    }
   ],
   "source": [
    "vector2.size"
   ]
  },
  {
   "cell_type": "markdown",
   "metadata": {},
   "source": [
    "'vector2' boyutu(row,column): "
   ]
  },
  {
   "cell_type": "code",
   "execution_count": 34,
   "metadata": {},
   "outputs": [
    {
     "data": {
      "text/plain": [
       "(5,)"
      ]
     },
     "execution_count": 34,
     "metadata": {},
     "output_type": "execute_result"
    }
   ],
   "source": [
    "vector.shape"
   ]
  },
  {
   "cell_type": "markdown",
   "metadata": {},
   "source": [
    "(5,) : 5x1 anlamına gelir"
   ]
  },
  {
   "cell_type": "markdown",
   "metadata": {},
   "source": [
    "Veri tipi: "
   ]
  },
  {
   "cell_type": "code",
   "execution_count": 37,
   "metadata": {},
   "outputs": [
    {
     "data": {
      "text/plain": [
       "'int32'"
      ]
     },
     "execution_count": 37,
     "metadata": {},
     "output_type": "execute_result"
    }
   ],
   "source": [
    "vector2.dtype.name"
   ]
  },
  {
   "cell_type": "markdown",
   "metadata": {},
   "source": [
    "Diziyi listeye çevirme:"
   ]
  },
  {
   "cell_type": "code",
   "execution_count": 41,
   "metadata": {},
   "outputs": [
    {
     "data": {
      "text/plain": [
       "[1, 3, 5, 7, 9, 11, 13, 15, 17, 19]"
      ]
     },
     "execution_count": 41,
     "metadata": {},
     "output_type": "execute_result"
    }
   ],
   "source": [
    "vec2_list = vector2.tolist()\n",
    "vec2_list"
   ]
  },
  {
   "cell_type": "code",
   "execution_count": 43,
   "metadata": {},
   "outputs": [
    {
     "data": {
      "text/plain": [
       "list"
      ]
     },
     "execution_count": 43,
     "metadata": {},
     "output_type": "execute_result"
    }
   ],
   "source": [
    "type(vec2_list)"
   ]
  },
  {
   "cell_type": "markdown",
   "metadata": {},
   "source": [
    "Bilgi edinmek için:"
   ]
  },
  {
   "cell_type": "code",
   "execution_count": 44,
   "metadata": {
    "collapsed": true,
    "jupyter": {
     "outputs_hidden": true
    }
   },
   "outputs": [
    {
     "name": "stdout",
     "output_type": "stream",
     "text": [
      " eye(N, M=None, k=0, dtype=<class 'float'>, order='C')\n",
      "\n",
      "Return a 2-D array with ones on the diagonal and zeros elsewhere.\n",
      "\n",
      "Parameters\n",
      "----------\n",
      "N : int\n",
      "  Number of rows in the output.\n",
      "M : int, optional\n",
      "  Number of columns in the output. If None, defaults to `N`.\n",
      "k : int, optional\n",
      "  Index of the diagonal: 0 (the default) refers to the main diagonal,\n",
      "  a positive value refers to an upper diagonal, and a negative value\n",
      "  to a lower diagonal.\n",
      "dtype : data-type, optional\n",
      "  Data-type of the returned array.\n",
      "order : {'C', 'F'}, optional\n",
      "    Whether the output should be stored in row-major (C-style) or\n",
      "    column-major (Fortran-style) order in memory.\n",
      "\n",
      "    .. versionadded:: 1.14.0\n",
      "\n",
      "Returns\n",
      "-------\n",
      "I : ndarray of shape (N,M)\n",
      "  An array where all elements are equal to zero, except for the `k`-th\n",
      "  diagonal, whose values are equal to one.\n",
      "\n",
      "See Also\n",
      "--------\n",
      "identity : (almost) equivalent function\n",
      "diag : diagonal 2-D array from a 1-D array specified by the user.\n",
      "\n",
      "Examples\n",
      "--------\n",
      ">>> np.eye(2, dtype=int)\n",
      "array([[1, 0],\n",
      "       [0, 1]])\n",
      ">>> np.eye(3, k=1)\n",
      "array([[0.,  1.,  0.],\n",
      "       [0.,  0.,  1.],\n",
      "       [0.,  0.,  0.]])\n"
     ]
    }
   ],
   "source": [
    "np.info(np.eye)"
   ]
  },
  {
   "cell_type": "markdown",
   "metadata": {},
   "source": [
    "<a id='4'></a><br>\n",
    "## Copying Sorting Reshaping"
   ]
  },
  {
   "cell_type": "markdown",
   "metadata": {},
   "source": [
    "Bazen veriler ile çalışırken geri dönüşünü olmayan zararlar verilebilir. Kopyalama ile orijinal veriyi korumak için ideal bir yöntemdir. "
   ]
  },
  {
   "cell_type": "code",
   "execution_count": 45,
   "metadata": {},
   "outputs": [
    {
     "data": {
      "text/plain": [
       "array([ 1,  2,  3,  4,  5,  6,  7,  8,  9, 10, 11, 12, 13, 14, 15, 16, 17,\n",
       "       18, 19, 20])"
      ]
     },
     "execution_count": 45,
     "metadata": {},
     "output_type": "execute_result"
    }
   ],
   "source": [
    "new_array = np.arange(1,21)\n",
    "new_array"
   ]
  },
  {
   "cell_type": "code",
   "execution_count": 46,
   "metadata": {},
   "outputs": [
    {
     "data": {
      "text/plain": [
       "array([ 1,  2,  3,  4,  5,  6,  7,  8,  9, 10, 11, 12, 13, 14, 15, 16, 17,\n",
       "       18, 19, 20])"
      ]
     },
     "execution_count": 46,
     "metadata": {},
     "output_type": "execute_result"
    }
   ],
   "source": [
    "array_copy = np.copy(new_array)\n",
    "array_copy"
   ]
  },
  {
   "cell_type": "markdown",
   "metadata": {},
   "source": [
    "Dizide belirli bir veri tipini gösterme:"
   ]
  },
  {
   "cell_type": "code",
   "execution_count": 47,
   "metadata": {},
   "outputs": [
    {
     "data": {
      "text/plain": [
       "array([ 1,  2,  3,  4,  5,  6,  7,  8,  9, 10, 11, 12, 13, 14, 15, 16, 17,\n",
       "       18, 19, 20])"
      ]
     },
     "execution_count": 47,
     "metadata": {},
     "output_type": "execute_result"
    }
   ],
   "source": [
    "array_copy.view(int)"
   ]
  },
  {
   "cell_type": "markdown",
   "metadata": {},
   "source": [
    "Dizide sıralama:"
   ]
  },
  {
   "cell_type": "code",
   "execution_count": 48,
   "metadata": {},
   "outputs": [
    {
     "data": {
      "text/plain": [
       "array([ 1,  2,  3,  4,  5,  6,  7,  8,  9, 10, 11, 12, 13, 14, 15, 16, 17,\n",
       "       18, 19, 20])"
      ]
     },
     "execution_count": 48,
     "metadata": {},
     "output_type": "execute_result"
    }
   ],
   "source": [
    "np.sort(new_array)"
   ]
  },
  {
   "cell_type": "code",
   "execution_count": 49,
   "metadata": {
    "collapsed": true,
    "jupyter": {
     "outputs_hidden": true
    }
   },
   "outputs": [
    {
     "data": {
      "text/plain": [
       "\u001b[1;31mSignature:\u001b[0m \u001b[0mnp\u001b[0m\u001b[1;33m.\u001b[0m\u001b[0msort\u001b[0m\u001b[1;33m(\u001b[0m\u001b[0ma\u001b[0m\u001b[1;33m,\u001b[0m \u001b[0maxis\u001b[0m\u001b[1;33m=\u001b[0m\u001b[1;33m-\u001b[0m\u001b[1;36m1\u001b[0m\u001b[1;33m,\u001b[0m \u001b[0mkind\u001b[0m\u001b[1;33m=\u001b[0m\u001b[1;32mNone\u001b[0m\u001b[1;33m,\u001b[0m \u001b[0morder\u001b[0m\u001b[1;33m=\u001b[0m\u001b[1;32mNone\u001b[0m\u001b[1;33m)\u001b[0m\u001b[1;33m\u001b[0m\u001b[1;33m\u001b[0m\u001b[0m\n",
       "\u001b[1;31mDocstring:\u001b[0m\n",
       "Return a sorted copy of an array.\n",
       "\n",
       "Parameters\n",
       "----------\n",
       "a : array_like\n",
       "    Array to be sorted.\n",
       "axis : int or None, optional\n",
       "    Axis along which to sort. If None, the array is flattened before\n",
       "    sorting. The default is -1, which sorts along the last axis.\n",
       "kind : {'quicksort', 'mergesort', 'heapsort', 'stable'}, optional\n",
       "    Sorting algorithm. The default is 'quicksort'. Note that both 'stable'\n",
       "    and 'mergesort' use timsort or radix sort under the covers and, in general,\n",
       "    the actual implementation will vary with data type. The 'mergesort' option\n",
       "    is retained for backwards compatibility.\n",
       "\n",
       "    .. versionchanged:: 1.15.0.\n",
       "       The 'stable' option was added.\n",
       "\n",
       "order : str or list of str, optional\n",
       "    When `a` is an array with fields defined, this argument specifies\n",
       "    which fields to compare first, second, etc.  A single field can\n",
       "    be specified as a string, and not all fields need be specified,\n",
       "    but unspecified fields will still be used, in the order in which\n",
       "    they come up in the dtype, to break ties.\n",
       "\n",
       "Returns\n",
       "-------\n",
       "sorted_array : ndarray\n",
       "    Array of the same type and shape as `a`.\n",
       "\n",
       "See Also\n",
       "--------\n",
       "ndarray.sort : Method to sort an array in-place.\n",
       "argsort : Indirect sort.\n",
       "lexsort : Indirect stable sort on multiple keys.\n",
       "searchsorted : Find elements in a sorted array.\n",
       "partition : Partial sort.\n",
       "\n",
       "Notes\n",
       "-----\n",
       "The various sorting algorithms are characterized by their average speed,\n",
       "worst case performance, work space size, and whether they are stable. A\n",
       "stable sort keeps items with the same key in the same relative\n",
       "order. The four algorithms implemented in NumPy have the following\n",
       "properties:\n",
       "\n",
       "=========== ======= ============= ============ ========\n",
       "   kind      speed   worst case    work space   stable\n",
       "=========== ======= ============= ============ ========\n",
       "'quicksort'    1     O(n^2)            0          no\n",
       "'heapsort'     3     O(n*log(n))       0          no\n",
       "'mergesort'    2     O(n*log(n))      ~n/2        yes\n",
       "'timsort'      2     O(n*log(n))      ~n/2        yes\n",
       "=========== ======= ============= ============ ========\n",
       "\n",
       ".. note:: The datatype determines which of 'mergesort' or 'timsort'\n",
       "   is actually used, even if 'mergesort' is specified. User selection\n",
       "   at a finer scale is not currently available.\n",
       "\n",
       "All the sort algorithms make temporary copies of the data when\n",
       "sorting along any but the last axis.  Consequently, sorting along\n",
       "the last axis is faster and uses less space than sorting along\n",
       "any other axis.\n",
       "\n",
       "The sort order for complex numbers is lexicographic. If both the real\n",
       "and imaginary parts are non-nan then the order is determined by the\n",
       "real parts except when they are equal, in which case the order is\n",
       "determined by the imaginary parts.\n",
       "\n",
       "Previous to numpy 1.4.0 sorting real and complex arrays containing nan\n",
       "values led to undefined behaviour. In numpy versions >= 1.4.0 nan\n",
       "values are sorted to the end. The extended sort order is:\n",
       "\n",
       "  * Real: [R, nan]\n",
       "  * Complex: [R + Rj, R + nanj, nan + Rj, nan + nanj]\n",
       "\n",
       "where R is a non-nan real value. Complex values with the same nan\n",
       "placements are sorted according to the non-nan part if it exists.\n",
       "Non-nan values are sorted as before.\n",
       "\n",
       ".. versionadded:: 1.12.0\n",
       "\n",
       "quicksort has been changed to `introsort <https://en.wikipedia.org/wiki/Introsort>`_.\n",
       "When sorting does not make enough progress it switches to\n",
       "`heapsort <https://en.wikipedia.org/wiki/Heapsort>`_.\n",
       "This implementation makes quicksort O(n*log(n)) in the worst case.\n",
       "\n",
       "'stable' automatically chooses the best stable sorting algorithm\n",
       "for the data type being sorted.\n",
       "It, along with 'mergesort' is currently mapped to\n",
       "`timsort <https://en.wikipedia.org/wiki/Timsort>`_\n",
       "or `radix sort <https://en.wikipedia.org/wiki/Radix_sort>`_\n",
       "depending on the data type.\n",
       "API forward compatibility currently limits the\n",
       "ability to select the implementation and it is hardwired for the different\n",
       "data types.\n",
       "\n",
       ".. versionadded:: 1.17.0\n",
       "\n",
       "Timsort is added for better performance on already or nearly\n",
       "sorted data. On random data timsort is almost identical to\n",
       "mergesort. It is now used for stable sort while quicksort is still the\n",
       "default sort if none is chosen. For timsort details, refer to\n",
       "`CPython listsort.txt <https://github.com/python/cpython/blob/3.7/Objects/listsort.txt>`_.\n",
       "'mergesort' and 'stable' are mapped to radix sort for integer data types. Radix sort is an\n",
       "O(n) sort instead of O(n log n).\n",
       "\n",
       ".. versionchanged:: 1.17.0\n",
       "\n",
       "NaT now sorts to the end of arrays for consistency with NaN.\n",
       "\n",
       "Examples\n",
       "--------\n",
       ">>> a = np.array([[1,4],[3,1]])\n",
       ">>> np.sort(a)                # sort along the last axis\n",
       "array([[1, 4],\n",
       "       [1, 3]])\n",
       ">>> np.sort(a, axis=None)     # sort the flattened array\n",
       "array([1, 1, 3, 4])\n",
       ">>> np.sort(a, axis=0)        # sort along the first axis\n",
       "array([[1, 1],\n",
       "       [3, 4]])\n",
       "\n",
       "Use the `order` keyword to specify a field to use when sorting a\n",
       "structured array:\n",
       "\n",
       ">>> dtype = [('name', 'S10'), ('height', float), ('age', int)]\n",
       ">>> values = [('Arthur', 1.8, 41), ('Lancelot', 1.9, 38),\n",
       "...           ('Galahad', 1.7, 38)]\n",
       ">>> a = np.array(values, dtype=dtype)       # create a structured array\n",
       ">>> np.sort(a, order='height')                        # doctest: +SKIP\n",
       "array([('Galahad', 1.7, 38), ('Arthur', 1.8, 41),\n",
       "       ('Lancelot', 1.8999999999999999, 38)],\n",
       "      dtype=[('name', '|S10'), ('height', '<f8'), ('age', '<i4')])\n",
       "\n",
       "Sort by age, then height if ages are equal:\n",
       "\n",
       ">>> np.sort(a, order=['age', 'height'])               # doctest: +SKIP\n",
       "array([('Galahad', 1.7, 38), ('Lancelot', 1.8999999999999999, 38),\n",
       "       ('Arthur', 1.8, 41)],\n",
       "      dtype=[('name', '|S10'), ('height', '<f8'), ('age', '<i4')])\n",
       "\u001b[1;31mFile:\u001b[0m      c:\\users\\hp\\anaconda3\\lib\\site-packages\\numpy\\core\\fromnumeric.py\n",
       "\u001b[1;31mType:\u001b[0m      function\n"
      ]
     },
     "metadata": {},
     "output_type": "display_data"
    }
   ],
   "source": [
    "?np.sort"
   ]
  },
  {
   "cell_type": "markdown",
   "metadata": {},
   "source": [
    "kind = quicksort/mergesort/heapsort/timsort seçenekleri"
   ]
  },
  {
   "cell_type": "code",
   "execution_count": 50,
   "metadata": {},
   "outputs": [
    {
     "data": {
      "text/plain": [
       "array([ 1,  2,  3,  4,  5,  6,  7,  8,  9, 10, 11, 12, 13, 14, 15, 16, 17,\n",
       "       18, 19, 20])"
      ]
     },
     "execution_count": 50,
     "metadata": {},
     "output_type": "execute_result"
    }
   ],
   "source": [
    "np.sort(new_array,kind=\"quicksort\")"
   ]
  },
  {
   "cell_type": "markdown",
   "metadata": {},
   "source": [
    "Matrisleri diziye dönüştürme:"
   ]
  },
  {
   "cell_type": "code",
   "execution_count": 51,
   "metadata": {},
   "outputs": [
    {
     "data": {
      "text/plain": [
       "array([[ 1,  2,  3,  4,  5,  6,  7,  8,  9, 10],\n",
       "       [11, 12, 13, 14, 15, 16, 17, 18, 19, 20]])"
      ]
     },
     "execution_count": 51,
     "metadata": {},
     "output_type": "execute_result"
    }
   ],
   "source": [
    "two_dimension = np.array([[1,2,3,4,5,6,7,8,9,10],\n",
    "                         [11,12,13,14,15,16,17,18,19,20]])\n",
    "two_dimension"
   ]
  },
  {
   "cell_type": "code",
   "execution_count": 52,
   "metadata": {},
   "outputs": [
    {
     "data": {
      "text/plain": [
       "array([ 1,  2,  3,  4,  5,  6,  7,  8,  9, 10, 11, 12, 13, 14, 15, 16, 17,\n",
       "       18, 19, 20])"
      ]
     },
     "execution_count": 52,
     "metadata": {},
     "output_type": "execute_result"
    }
   ],
   "source": [
    "two_dimension.flatten()"
   ]
  },
  {
   "cell_type": "markdown",
   "metadata": {},
   "source": [
    "Bir matrisin transpozunu alma: "
   ]
  },
  {
   "cell_type": "code",
   "execution_count": 54,
   "metadata": {},
   "outputs": [
    {
     "data": {
      "text/plain": [
       "array([[ 1, 11],\n",
       "       [ 2, 12],\n",
       "       [ 3, 13],\n",
       "       [ 4, 14],\n",
       "       [ 5, 15],\n",
       "       [ 6, 16],\n",
       "       [ 7, 17],\n",
       "       [ 8, 18],\n",
       "       [ 9, 19],\n",
       "       [10, 20]])"
      ]
     },
     "execution_count": 54,
     "metadata": {},
     "output_type": "execute_result"
    }
   ],
   "source": [
    "two_dimension.T"
   ]
  },
  {
   "cell_type": "markdown",
   "metadata": {},
   "source": [
    "bir dizinin şeklini değiştirme:"
   ]
  },
  {
   "cell_type": "code",
   "execution_count": 55,
   "metadata": {},
   "outputs": [
    {
     "data": {
      "text/plain": [
       "array([ 1,  2,  3,  4,  5,  6,  7,  8,  9, 10, 11, 12, 13, 14, 15])"
      ]
     },
     "execution_count": 55,
     "metadata": {},
     "output_type": "execute_result"
    }
   ],
   "source": [
    "vector3"
   ]
  },
  {
   "cell_type": "code",
   "execution_count": 56,
   "metadata": {},
   "outputs": [
    {
     "data": {
      "text/plain": [
       "array([[ 1,  2,  3,  4,  5],\n",
       "       [ 6,  7,  8,  9, 10],\n",
       "       [11, 12, 13, 14, 15]])"
      ]
     },
     "execution_count": 56,
     "metadata": {},
     "output_type": "execute_result"
    }
   ],
   "source": [
    "vector3.reshape(3,5)"
   ]
  },
  {
   "cell_type": "markdown",
   "metadata": {},
   "source": [
    "<a id='5'></a><br>\n",
    "## Adding Removing"
   ]
  },
  {
   "cell_type": "code",
   "execution_count": 57,
   "metadata": {},
   "outputs": [
    {
     "data": {
      "text/plain": [
       "array([2, 3, 4, 5])"
      ]
     },
     "execution_count": 57,
     "metadata": {},
     "output_type": "execute_result"
    }
   ],
   "source": [
    "arr = np.arange(2,6)\n",
    "arr"
   ]
  },
  {
   "cell_type": "markdown",
   "metadata": {},
   "source": [
    "Diziye yeni bir sayı ekleme:"
   ]
  },
  {
   "cell_type": "code",
   "execution_count": 58,
   "metadata": {},
   "outputs": [
    {
     "data": {
      "text/plain": [
       "array([2, 3, 4, 5, 6])"
      ]
     },
     "execution_count": 58,
     "metadata": {},
     "output_type": "execute_result"
    }
   ],
   "source": [
    "np.append(arr,6)"
   ]
  },
  {
   "cell_type": "markdown",
   "metadata": {},
   "source": [
    "Dizide belirli indekse sayı ekleme:"
   ]
  },
  {
   "cell_type": "code",
   "execution_count": 59,
   "metadata": {},
   "outputs": [
    {
     "data": {
      "text/plain": [
       "array([2, 3, 7, 4, 5])"
      ]
     },
     "execution_count": 59,
     "metadata": {},
     "output_type": "execute_result"
    }
   ],
   "source": [
    "np.insert(arr,2,7)"
   ]
  },
  {
   "cell_type": "markdown",
   "metadata": {},
   "source": [
    "Dizide belirli bir indeksteki sayıyı silme:"
   ]
  },
  {
   "cell_type": "code",
   "execution_count": 60,
   "metadata": {},
   "outputs": [
    {
     "data": {
      "text/plain": [
       "array([2, 3, 4])"
      ]
     },
     "execution_count": 60,
     "metadata": {},
     "output_type": "execute_result"
    }
   ],
   "source": [
    "np.delete(arr,3,axis=0)"
   ]
  },
  {
   "cell_type": "markdown",
   "metadata": {},
   "source": [
    "<a id='6'></a><br>\n",
    "## Combining Splitting"
   ]
  },
  {
   "cell_type": "code",
   "execution_count": 62,
   "metadata": {},
   "outputs": [
    {
     "data": {
      "text/plain": [
       "array([1, 2])"
      ]
     },
     "execution_count": 62,
     "metadata": {},
     "output_type": "execute_result"
    }
   ],
   "source": [
    "arr = np.arange(1,3)\n",
    "arr"
   ]
  },
  {
   "cell_type": "code",
   "execution_count": 63,
   "metadata": {},
   "outputs": [
    {
     "data": {
      "text/plain": [
       "array([4, 5, 6, 7, 8])"
      ]
     },
     "execution_count": 63,
     "metadata": {},
     "output_type": "execute_result"
    }
   ],
   "source": [
    "arr2 = np.arange(4,9)\n",
    "arr2"
   ]
  },
  {
   "cell_type": "markdown",
   "metadata": {},
   "source": [
    "İki diziyi birleştirme:"
   ]
  },
  {
   "cell_type": "code",
   "execution_count": 64,
   "metadata": {},
   "outputs": [
    {
     "data": {
      "text/plain": [
       "array([1, 2, 4, 5, 6, 7, 8])"
      ]
     },
     "execution_count": 64,
     "metadata": {},
     "output_type": "execute_result"
    }
   ],
   "source": [
    "con = np.concatenate((arr,arr2),axis=0)\n",
    "con"
   ]
  },
  {
   "cell_type": "markdown",
   "metadata": {},
   "source": [
    "Diziyi belirli bir sayıda bölme:"
   ]
  },
  {
   "cell_type": "code",
   "execution_count": 74,
   "metadata": {},
   "outputs": [
    {
     "data": {
      "text/plain": [
       "[array([1]), array([2])]"
      ]
     },
     "execution_count": 74,
     "metadata": {},
     "output_type": "execute_result"
    }
   ],
   "source": [
    "np.split(arr,2)"
   ]
  },
  {
   "cell_type": "code",
   "execution_count": 75,
   "metadata": {},
   "outputs": [
    {
     "data": {
      "text/plain": [
       "[array([1, 2]), array([3, 4]), array([5, 6])]"
      ]
     },
     "execution_count": 75,
     "metadata": {},
     "output_type": "execute_result"
    }
   ],
   "source": [
    "arr = np.array([1, 2, 3, 4, 5, 6])\n",
    "newarr = np.array_split(arr, 3)\n",
    "newarr"
   ]
  },
  {
   "cell_type": "markdown",
   "metadata": {},
   "source": [
    "<a id='7'></a><br>\n",
    "## Indexing Slicing Subsetting"
   ]
  },
  {
   "cell_type": "code",
   "execution_count": 77,
   "metadata": {},
   "outputs": [
    {
     "data": {
      "text/plain": [
       "array([4, 5, 6, 7, 8])"
      ]
     },
     "execution_count": 77,
     "metadata": {},
     "output_type": "execute_result"
    }
   ],
   "source": [
    "arr2"
   ]
  },
  {
   "cell_type": "markdown",
   "metadata": {},
   "source": [
    "Belirli indeksteki sayıyı geri döndürme:"
   ]
  },
  {
   "cell_type": "code",
   "execution_count": 78,
   "metadata": {},
   "outputs": [
    {
     "data": {
      "text/plain": [
       "7"
      ]
     },
     "execution_count": 78,
     "metadata": {},
     "output_type": "execute_result"
    }
   ],
   "source": [
    "arr2[3]"
   ]
  },
  {
   "cell_type": "code",
   "execution_count": 79,
   "metadata": {},
   "outputs": [
    {
     "data": {
      "text/plain": [
       "array([[ 1,  2,  3,  4,  5,  6,  7,  8,  9, 10],\n",
       "       [11, 12, 13, 14, 15, 16, 17, 18, 19, 20]])"
      ]
     },
     "execution_count": 79,
     "metadata": {},
     "output_type": "execute_result"
    }
   ],
   "source": [
    "two_dimension"
   ]
  },
  {
   "cell_type": "markdown",
   "metadata": {},
   "source": [
    "Matristen herhangi bir indeksten sayı geri döndürme:"
   ]
  },
  {
   "cell_type": "code",
   "execution_count": 80,
   "metadata": {},
   "outputs": [
    {
     "data": {
      "text/plain": [
       "15"
      ]
     },
     "execution_count": 80,
     "metadata": {},
     "output_type": "execute_result"
    }
   ],
   "source": [
    "two_dimension[1,4]"
   ]
  },
  {
   "cell_type": "markdown",
   "metadata": {},
   "source": [
    "Belirli bir indekse sayı atama:"
   ]
  },
  {
   "cell_type": "code",
   "execution_count": 82,
   "metadata": {},
   "outputs": [
    {
     "data": {
      "text/plain": [
       "array([ 4,  5, 10,  7,  8])"
      ]
     },
     "execution_count": 82,
     "metadata": {},
     "output_type": "execute_result"
    }
   ],
   "source": [
    "arr2[2] = 10\n",
    "arr2"
   ]
  },
  {
   "cell_type": "code",
   "execution_count": 83,
   "metadata": {},
   "outputs": [
    {
     "data": {
      "text/plain": [
       "array([[ 1,  2,  3,  4,  5,  6,  7,  8,  9, 10],\n",
       "       [11, 12, 13, 14, 15, 21, 17, 18, 19, 20]])"
      ]
     },
     "execution_count": 83,
     "metadata": {},
     "output_type": "execute_result"
    }
   ],
   "source": [
    "two_dimension[1,5] = 21\n",
    "two_dimension"
   ]
  },
  {
   "cell_type": "markdown",
   "metadata": {},
   "source": [
    "Dizideki belirli bir sayı kümesine alma:"
   ]
  },
  {
   "cell_type": "code",
   "execution_count": 84,
   "metadata": {},
   "outputs": [
    {
     "data": {
      "text/plain": [
       "array([1, 2, 3, 4, 5, 6, 7, 8])"
      ]
     },
     "execution_count": 84,
     "metadata": {},
     "output_type": "execute_result"
    }
   ],
   "source": [
    "q_arr = np.arange(1,9)\n",
    "q_arr"
   ]
  },
  {
   "cell_type": "code",
   "execution_count": 85,
   "metadata": {},
   "outputs": [
    {
     "data": {
      "text/plain": [
       "array([2, 3, 4])"
      ]
     },
     "execution_count": 85,
     "metadata": {},
     "output_type": "execute_result"
    }
   ],
   "source": [
    "q_arr[1:4] # 1.indeksten 4.indeksi seç"
   ]
  },
  {
   "cell_type": "code",
   "execution_count": 88,
   "metadata": {},
   "outputs": [
    {
     "data": {
      "text/plain": [
       "array([1, 2, 3])"
      ]
     },
     "execution_count": 88,
     "metadata": {},
     "output_type": "execute_result"
    }
   ],
   "source": [
    "q_arr[:3] # ilk üçü seç"
   ]
  },
  {
   "cell_type": "code",
   "execution_count": 90,
   "metadata": {},
   "outputs": [
    {
     "data": {
      "text/plain": [
       "array([4, 5, 6, 7, 8])"
      ]
     },
     "execution_count": 90,
     "metadata": {},
     "output_type": "execute_result"
    }
   ],
   "source": [
    "q_arr[3:] # 3.indeks dahil geri kalanı seç"
   ]
  },
  {
   "cell_type": "code",
   "execution_count": 91,
   "metadata": {},
   "outputs": [
    {
     "data": {
      "text/plain": [
       "array([12])"
      ]
     },
     "execution_count": 91,
     "metadata": {},
     "output_type": "execute_result"
    }
   ],
   "source": [
    "two_dimension[1:3,1] "
   ]
  },
  {
   "cell_type": "code",
   "execution_count": 98,
   "metadata": {},
   "outputs": [
    {
     "data": {
      "text/plain": [
       "array([ 3, 13])"
      ]
     },
     "execution_count": 98,
     "metadata": {},
     "output_type": "execute_result"
    }
   ],
   "source": [
    "two_dimension[:,2]"
   ]
  },
  {
   "cell_type": "code",
   "execution_count": 100,
   "metadata": {},
   "outputs": [
    {
     "data": {
      "text/plain": [
       "array([3])"
      ]
     },
     "execution_count": 100,
     "metadata": {},
     "output_type": "execute_result"
    }
   ],
   "source": [
    "two_dimension[:1,2]"
   ]
  },
  {
   "cell_type": "code",
   "execution_count": 99,
   "metadata": {},
   "outputs": [
    {
     "data": {
      "text/plain": [
       "array([ 3, 13])"
      ]
     },
     "execution_count": 99,
     "metadata": {},
     "output_type": "execute_result"
    }
   ],
   "source": [
    "two_dimension[:,2]"
   ]
  },
  {
   "cell_type": "code",
   "execution_count": 101,
   "metadata": {},
   "outputs": [
    {
     "data": {
      "text/plain": [
       "array([ True,  True,  True,  True, False, False, False, False])"
      ]
     },
     "execution_count": 101,
     "metadata": {},
     "output_type": "execute_result"
    }
   ],
   "source": [
    "q_arr<5"
   ]
  },
  {
   "cell_type": "code",
   "execution_count": 102,
   "metadata": {},
   "outputs": [
    {
     "data": {
      "text/plain": [
       "array([False, False, False, False, False, False, False, False])"
      ]
     },
     "execution_count": 102,
     "metadata": {},
     "output_type": "execute_result"
    }
   ],
   "source": [
    "(q_arr<3) & (q_arr>5)"
   ]
  },
  {
   "cell_type": "code",
   "execution_count": 103,
   "metadata": {},
   "outputs": [
    {
     "data": {
      "text/plain": [
       "array([-2, -3, -4, -5, -6, -7, -8, -9], dtype=int32)"
      ]
     },
     "execution_count": 103,
     "metadata": {},
     "output_type": "execute_result"
    }
   ],
   "source": [
    "~q_arr"
   ]
  },
  {
   "cell_type": "code",
   "execution_count": 104,
   "metadata": {},
   "outputs": [
    {
     "data": {
      "text/plain": [
       "array([1, 2, 3, 4, 5])"
      ]
     },
     "execution_count": 104,
     "metadata": {},
     "output_type": "execute_result"
    }
   ],
   "source": [
    "q_arr[q_arr<6]"
   ]
  },
  {
   "cell_type": "markdown",
   "metadata": {},
   "source": [
    "<a id='8'></a><br>\n",
    "## Scaler Math"
   ]
  },
  {
   "cell_type": "code",
   "execution_count": 105,
   "metadata": {},
   "outputs": [
    {
     "data": {
      "text/plain": [
       "array([2, 3, 4, 5, 6, 7, 8, 9])"
      ]
     },
     "execution_count": 105,
     "metadata": {},
     "output_type": "execute_result"
    }
   ],
   "source": [
    "np.add(q_arr,1)"
   ]
  },
  {
   "cell_type": "code",
   "execution_count": 106,
   "metadata": {},
   "outputs": [
    {
     "data": {
      "text/plain": [
       "array([-2, -1,  0,  1,  2,  3,  4,  5])"
      ]
     },
     "execution_count": 106,
     "metadata": {},
     "output_type": "execute_result"
    }
   ],
   "source": [
    "np.subtract(q_arr,3)"
   ]
  },
  {
   "cell_type": "code",
   "execution_count": 107,
   "metadata": {},
   "outputs": [
    {
     "data": {
      "text/plain": [
       "array([ 3,  6,  9, 12, 15, 18, 21, 24])"
      ]
     },
     "execution_count": 107,
     "metadata": {},
     "output_type": "execute_result"
    }
   ],
   "source": [
    "np.multiply(q_arr,3)"
   ]
  },
  {
   "cell_type": "code",
   "execution_count": 108,
   "metadata": {},
   "outputs": [
    {
     "data": {
      "text/plain": [
       "array([0.25, 0.5 , 0.75, 1.  , 1.25, 1.5 , 1.75, 2.  ])"
      ]
     },
     "execution_count": 108,
     "metadata": {},
     "output_type": "execute_result"
    }
   ],
   "source": [
    "np.divide(q_arr,4)"
   ]
  },
  {
   "cell_type": "code",
   "execution_count": 109,
   "metadata": {},
   "outputs": [
    {
     "data": {
      "text/plain": [
       "array([    1,    32,   243,  1024,  3125,  7776, 16807, 32768],\n",
       "      dtype=int32)"
      ]
     },
     "execution_count": 109,
     "metadata": {},
     "output_type": "execute_result"
    }
   ],
   "source": [
    "np.power(q_arr,5)"
   ]
  },
  {
   "cell_type": "markdown",
   "metadata": {},
   "source": [
    "<a id='9'></a><br>\n",
    "## Vector Math"
   ]
  },
  {
   "cell_type": "code",
   "execution_count": 110,
   "metadata": {},
   "outputs": [
    {
     "data": {
      "text/plain": [
       "False"
      ]
     },
     "execution_count": 110,
     "metadata": {},
     "output_type": "execute_result"
    }
   ],
   "source": [
    "np.array_equal(arr,arr2)"
   ]
  },
  {
   "cell_type": "code",
   "execution_count": 111,
   "metadata": {},
   "outputs": [
    {
     "data": {
      "text/plain": [
       "array([2.        , 2.23606798, 3.16227766, 2.64575131, 2.82842712])"
      ]
     },
     "execution_count": 111,
     "metadata": {},
     "output_type": "execute_result"
    }
   ],
   "source": [
    "np.sqrt(arr2)"
   ]
  },
  {
   "cell_type": "code",
   "execution_count": 112,
   "metadata": {},
   "outputs": [
    {
     "data": {
      "text/plain": [
       "array([-0.7568025 , -0.95892427, -0.54402111,  0.6569866 ,  0.98935825])"
      ]
     },
     "execution_count": 112,
     "metadata": {},
     "output_type": "execute_result"
    }
   ],
   "source": [
    "np.sin(arr2)"
   ]
  },
  {
   "cell_type": "code",
   "execution_count": 113,
   "metadata": {},
   "outputs": [
    {
     "data": {
      "text/plain": [
       "array([1.38629436, 1.60943791, 2.30258509, 1.94591015, 2.07944154])"
      ]
     },
     "execution_count": 113,
     "metadata": {},
     "output_type": "execute_result"
    }
   ],
   "source": [
    "np.log(arr2)"
   ]
  },
  {
   "cell_type": "code",
   "execution_count": 114,
   "metadata": {},
   "outputs": [
    {
     "data": {
      "text/plain": [
       "array([ 4,  5, 10,  7,  8])"
      ]
     },
     "execution_count": 114,
     "metadata": {},
     "output_type": "execute_result"
    }
   ],
   "source": [
    "np.abs(arr2)"
   ]
  },
  {
   "cell_type": "code",
   "execution_count": 115,
   "metadata": {},
   "outputs": [
    {
     "data": {
      "text/plain": [
       "array([ 4.,  5., 10.,  7.,  8.])"
      ]
     },
     "execution_count": 115,
     "metadata": {},
     "output_type": "execute_result"
    }
   ],
   "source": [
    "np.ceil(arr2)"
   ]
  },
  {
   "cell_type": "code",
   "execution_count": 116,
   "metadata": {},
   "outputs": [
    {
     "data": {
      "text/plain": [
       "array([ 4.,  5., 10.,  7.,  8.])"
      ]
     },
     "execution_count": 116,
     "metadata": {},
     "output_type": "execute_result"
    }
   ],
   "source": [
    "np.floor(arr2)"
   ]
  },
  {
   "cell_type": "code",
   "execution_count": 117,
   "metadata": {},
   "outputs": [
    {
     "data": {
      "text/plain": [
       "array([ 4,  5, 10,  7,  8])"
      ]
     },
     "execution_count": 117,
     "metadata": {},
     "output_type": "execute_result"
    }
   ],
   "source": [
    "np.round(arr2)"
   ]
  },
  {
   "cell_type": "markdown",
   "metadata": {},
   "source": [
    "<a id='10'></a><br>\n",
    "## İstatistik"
   ]
  },
  {
   "cell_type": "markdown",
   "metadata": {},
   "source": [
    "Dizideki sayıların ortalama alma:"
   ]
  },
  {
   "cell_type": "code",
   "execution_count": 118,
   "metadata": {},
   "outputs": [
    {
     "data": {
      "text/plain": [
       "6.8"
      ]
     },
     "execution_count": 118,
     "metadata": {},
     "output_type": "execute_result"
    }
   ],
   "source": [
    "np.mean(arr2,axis=0)"
   ]
  },
  {
   "cell_type": "markdown",
   "metadata": {},
   "source": [
    "Dizideki sayıların toplamını bulma:"
   ]
  },
  {
   "cell_type": "code",
   "execution_count": 119,
   "metadata": {},
   "outputs": [
    {
     "data": {
      "text/plain": [
       "34"
      ]
     },
     "execution_count": 119,
     "metadata": {},
     "output_type": "execute_result"
    }
   ],
   "source": [
    "np.sum(arr2)"
   ]
  },
  {
   "cell_type": "markdown",
   "metadata": {},
   "source": [
    "Dizinin içerisindeki en büyük sayıyı bulma:"
   ]
  },
  {
   "cell_type": "code",
   "execution_count": 121,
   "metadata": {},
   "outputs": [
    {
     "data": {
      "text/plain": [
       "10"
      ]
     },
     "execution_count": 121,
     "metadata": {},
     "output_type": "execute_result"
    }
   ],
   "source": [
    "np.max(arr2)"
   ]
  },
  {
   "cell_type": "markdown",
   "metadata": {},
   "source": [
    "Dizinin içerindeki en küçük sayıyı bulma:"
   ]
  },
  {
   "cell_type": "code",
   "execution_count": 122,
   "metadata": {},
   "outputs": [
    {
     "data": {
      "text/plain": [
       "4"
      ]
     },
     "execution_count": 122,
     "metadata": {},
     "output_type": "execute_result"
    }
   ],
   "source": [
    "np.min(arr2)"
   ]
  },
  {
   "cell_type": "markdown",
   "metadata": {},
   "source": [
    "Dizinin sayılarının varyansını bulma:"
   ]
  },
  {
   "cell_type": "code",
   "execution_count": 123,
   "metadata": {},
   "outputs": [
    {
     "data": {
      "text/plain": [
       "4.5600000000000005"
      ]
     },
     "execution_count": 123,
     "metadata": {},
     "output_type": "execute_result"
    }
   ],
   "source": [
    "np.var(arr2)"
   ]
  },
  {
   "cell_type": "markdown",
   "metadata": {},
   "source": [
    "Dizinin belirli bir eksende standart sapmasını bulur:"
   ]
  },
  {
   "cell_type": "code",
   "execution_count": 124,
   "metadata": {},
   "outputs": [
    {
     "data": {
      "text/plain": [
       "1.707825127659933"
      ]
     },
     "execution_count": 124,
     "metadata": {},
     "output_type": "execute_result"
    }
   ],
   "source": [
    "np.std(arr,axis=0)"
   ]
  }
 ],
 "metadata": {
  "kernelspec": {
   "display_name": "Python 3",
   "language": "python",
   "name": "python3"
  },
  "language_info": {
   "codemirror_mode": {
    "name": "ipython",
    "version": 3
   },
   "file_extension": ".py",
   "mimetype": "text/x-python",
   "name": "python",
   "nbconvert_exporter": "python",
   "pygments_lexer": "ipython3",
   "version": "3.7.6"
  }
 },
 "nbformat": 4,
 "nbformat_minor": 4
}
